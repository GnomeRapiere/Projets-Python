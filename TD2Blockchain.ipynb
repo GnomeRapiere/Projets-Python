{
  "nbformat": 4,
  "nbformat_minor": 0,
  "metadata": {
    "colab": {
      "name": "TD2Blockchain.ipynb",
      "provenance": [],
      "collapsed_sections": [],
      "include_colab_link": true
    },
    "kernelspec": {
      "name": "python3",
      "display_name": "Python 3"
    },
    "language_info": {
      "name": "python"
    }
  },
  "cells": [
    {
      "cell_type": "markdown",
      "metadata": {
        "id": "view-in-github",
        "colab_type": "text"
      },
      "source": [
        "<a href=\"https://colab.research.google.com/github/GnomeRapiere/Projets-Python/blob/main/TD2Blockchain.ipynb\" target=\"_parent\"><img src=\"https://colab.research.google.com/assets/colab-badge.svg\" alt=\"Open In Colab\"/></a>"
      ]
    },
    {
      "cell_type": "code",
      "metadata": {
        "id": "-pxHSmWzQ0sl",
        "colab": {
          "base_uri": "https://localhost:8080/"
        },
        "outputId": "1dfe8cdc-67b0-44b0-cf22-308e536dc72e"
      },
      "source": [
        "import os\n",
        "import hashlib\n",
        "import binascii\n",
        "\n",
        "####### PREMIERE PARTIE DU TD ###########\n",
        "\n",
        "#programme récupérant une sortie via interaction avec l'utilisateur\n",
        "def interactionterminal():\n",
        "  print(\"Veuillez effectuez votre saisie \")\n",
        "  sortie = input()\n",
        "  return sortie\n",
        "\n",
        "#génère un nombre aléatoire\n",
        "def aleatoiresecurise():\n",
        "  x = int(binascii.hexlify(os.urandom(16)),16)\n",
        "  return x\n",
        "\n",
        "x = aleatoiresecurise()\n",
        "print(x)\n",
        "\n",
        "#conversion de ce nombre en binaire \n",
        "binaire=str(format(x, \"b\"))\n",
        "print(\"En binaire : \"+binaire)\n",
        "\n",
        "#on met ce nombre binaire dans le bon format (128 bits)\n",
        "\n",
        "for i in range(128):\n",
        "  if(len(binaire)<=128-1):\n",
        "    binaire=str(((128-len(binaire)-2)*0))+binaire\n",
        "print(\"En binaire 128 bits : \"+ binaire)\n",
        "\n",
        "#hachage en SHA256 pour récupérer les 4 derniers nombres\n",
        "hex=hashlib.sha256(binaire.encode('utf-8')).hexdigest()\n",
        "#print(\"SHA256: \"+hex)\n",
        "int_valeur = int(hex, base=16) #nombre en base 16\n",
        "binaire_sha256=str(format(int_valeur, \"b\")) #nombre en binaire\n",
        "#print(binaire_sha256)\n",
        "binaire=binaire+binaire_sha256[0]+binaire_sha256[1]+binaire_sha256[2]+binaire_sha256[3] \n",
        "print(binaire) #nombre final codé sur 132 bits qu'on sépare en 11 packets.\n",
        "\n",
        "#Maintenant on sépare ce nombre en 12 lots de 11 bits.\n",
        "\n",
        "packets = []\n",
        "packet = \"\" #packet au singulier correspond à l'élément (un lot de 11 bits)\n",
        "j=0\n",
        "\n",
        "for k in range(12):\n",
        "  for i in range(11):\n",
        "    packet = packet + binaire[i+j]\n",
        "  packets.append(packet)\n",
        "  packet = \"\"\n",
        "  j= j+11\n",
        "#La liste packets contient désormais tous nos packets.\n",
        "print(packets)\n",
        "\n",
        "packets2=[]\n",
        "for s in range(len(packets)):\n",
        "  packets2.append(int(packets[s],2)) \n",
        "\n",
        "#On reconvertit les nombres binaires pour obtenir les indices à chercher dans le dictionnaire BIP39\n",
        "print(packets2)\n",
        "\n",
        "#On fait correspondre nos indices aux mots du dictionnaire bip39 et on les implémente ensuite dans la liste seed.\n",
        "seed = []\n",
        "dicobip39 = []\n",
        "file = open('/bip39.txt', \"r\")\n",
        "for line in file:\n",
        "  dicobip39.append(line)\n",
        "file.close()\n",
        "\n",
        "for i in range(len(packets2)):\n",
        "  seed.append(dicobip39[packets2[i]])\n",
        "\n",
        "#print(seed)\n",
        "\n",
        "#On met la liste seed dans le bon format (en enlevant les \\n)\n",
        "for i in range(len(seed)):\n",
        "  seed[i] = seed[i][:-1]\n",
        "\n",
        "print(seed) #on a enfin notre seed dans le bon format !\n",
        "\n",
        "#Cette fois on va importer une seed directement saisie par l'utilisateur via ligne de commande et vérifier qu'elle est correcte.\n",
        "\n",
        "seed2=[]\n",
        "seed3=[]\n",
        "\n",
        "#D'abord l'utilisateur saisie manuellement les 8 mots de sa seed, ils sont ensuite reconvertis en binaire pour retrouver nos 12 paquets \n",
        "#de 11bits.\n",
        "\n",
        "for y in range(12):\n",
        "    ax=str(format(dicobip39.index(input(\"Saisir mot \"+str(y)+\" : \")+'\\n'),\"b\"))\n",
        "    seed2.append(ax)\n",
        "\n",
        "#Suite à cela on rajoute les 0 manquants pour avoir le bon nombre de bits.\n",
        "for o in range(12):\n",
        "    string=seed2[o]\n",
        "    if(len(string)<=11):\n",
        "        string=str(((11-len(string))*str(0)))+string\n",
        "        seed3.append(string)\n",
        "    else:\n",
        "        seed3.append(string)\n",
        "print(seed2) #des paquets pas forcement de 11\n",
        "print(seed3) #des paquets de 11 => seed3 est dans le format souhaité.\n",
        "\n",
        "binaire_seed132=\"\"\n",
        "for h in range(len(seed3)):\n",
        "    binaire_seed132=binaire_seed132+seed3[h]\n",
        "print(binaire_seed132) #on retrouve ici le nombre en 132 bits\n",
        "\n",
        "#il faut vérifier que les 4 derniers caracteres (checksum) correspondent aux 4 premiers caractères\n",
        "#du resultat après le hachage du nombre en 128 bits.\n",
        "\n",
        "checksum=binaire_seed132[128]+binaire_seed132[129]+binaire_seed132[130]+binaire_seed132[131]\n",
        "print(checksum)\n",
        "binaire_seed128=binaire_seed132[:-4] #on récupère le nombre amputé des 4 derniers caracteres pour pouvoir le hacher.\n",
        "print(binaire_seed128)\n",
        "hex_seed=hashlib.sha256(binaire_seed128.encode('utf-8')).hexdigest() #on hache\n",
        "int_valeur_seed = int(hex_seed, base=16) #nombre en base 16\n",
        "binaire_sha256_seed=str(format(int_valeur_seed, \"b\")) #nombre en binaire\n",
        "binaire_sha256_checksum=binaire_sha256_seed[0]+binaire_sha256_seed[1]+binaire_sha256_seed[2]+binaire_sha256_seed[3]\n",
        "print(binaire_sha256_checksum) \n",
        "#on compare nos 4 caractères aux 4 premiers après hachage pour vérifier si ils correspondent.\n",
        "if(binaire_sha256_checksum==checksum):\n",
        "    print(\"La seed saisie est bien valide.\")\n",
        "else:\n",
        "  print(\"La seed saisie est invalide.\")\n",
        "\n",
        "\n",
        "\n",
        "\n",
        "  \n",
        "\n",
        "\n",
        "\n"
      ],
      "execution_count": 17,
      "outputs": [
        {
          "output_type": "stream",
          "name": "stdout",
          "text": [
            "173235732026500073916491275656490053978\n",
            "En binaire : 10000010010100111111110100000110001000001111100001111100010001100100101001101000010001001111010111000001010100101111000101011010\n",
            "En binaire 128 bits : 10000010010100111111110100000110001000001111100001111100010001100100101001101000010001001111010111000001010100101111000101011010\n",
            "100000100101001111111101000001100010000011111000011111000100011001001010011010000100010011110101110000010101001011110001010110101101\n",
            "['10000010010', '10011111111', '01000001100', '01000001111', '10000111110', '00100011001', '00101001101', '00001000100', '11110101110', '00001010100', '10111100010', '10110101101']\n",
            "[1042, 1279, 524, 527, 1086, 281, 333, 68, 1966, 84, 1506, 1453]\n",
            "['liquid', 'paper', 'dose', 'draft', 'march', 'case', 'claim', 'ancient', 'volume', 'appear', 'rough', 'remember']\n",
            "Saisir mot 0 : liquid\n",
            "Saisir mot 1 : paper\n",
            "Saisir mot 2 : dose\n",
            "Saisir mot 3 : draft\n",
            "Saisir mot 4 : march\n",
            "Saisir mot 5 : case\n",
            "Saisir mot 6 : claim\n",
            "Saisir mot 7 : ancient\n",
            "Saisir mot 8 : volume\n",
            "Saisir mot 9 : appear\n",
            "Saisir mot 10 : rough\n",
            "Saisir mot 11 : remember\n",
            "['10000010010', '10011111111', '1000001100', '1000001111', '10000111110', '100011001', '101001101', '1000100', '11110101110', '1010100', '10111100010', '10110101101']\n",
            "['10000010010', '10011111111', '01000001100', '01000001111', '10000111110', '00100011001', '00101001101', '00001000100', '11110101110', '00001010100', '10111100010', '10110101101']\n",
            "100000100101001111111101000001100010000011111000011111000100011001001010011010000100010011110101110000010101001011110001010110101101\n",
            "1101\n",
            "10000010010100111111110100000110001000001111100001111100010001100100101001101000010001001111010111000001010100101111000101011010\n",
            "1101\n",
            "La seed saisie est bien valide.\n"
          ]
        }
      ]
    },
    {
      "cell_type": "code",
      "metadata": {
        "id": "LSWT081Q4-jU"
      },
      "source": [
        ""
      ],
      "execution_count": null,
      "outputs": []
    },
    {
      "cell_type": "code",
      "metadata": {
        "colab": {
          "base_uri": "https://localhost:8080/"
        },
        "id": "4tER_gP8ai7U",
        "outputId": "a22eada2-378c-4820-d186-a1881fadb3f3"
      },
      "source": [
        "from google.colab import drive\n",
        "drive.mount('/content/drive')"
      ],
      "execution_count": 15,
      "outputs": [
        {
          "output_type": "stream",
          "name": "stdout",
          "text": [
            "Mounted at /content/drive\n"
          ]
        }
      ]
    },
    {
      "cell_type": "code",
      "metadata": {
        "colab": {
          "base_uri": "https://localhost:8080/"
        },
        "id": "nfggc1hU5G58",
        "outputId": "2404b36f-d9ce-4916-bb8e-b8c2139023dc"
      },
      "source": [
        "#génère un nombre aléatoire\n",
        "import os\n",
        "import binascii\n",
        "def aleatoiresecurise():\n",
        "  x = int(binascii.hexlify(os.urandom(16)),16)\n",
        "  return x\n",
        "\n",
        "x = aleatoiresecurise()\n",
        "print(x)"
      ],
      "execution_count": 16,
      "outputs": [
        {
          "output_type": "stream",
          "name": "stdout",
          "text": [
            "44064172506337978199024044592053051820\n"
          ]
        }
      ]
    }
  ]
}